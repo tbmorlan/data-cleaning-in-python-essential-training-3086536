# %%
import pandas as pd


# %%
df = pd.read_csv('cart.csv', parse_dates=['date'])
df



